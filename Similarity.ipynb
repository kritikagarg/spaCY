{
 "cells": [
  {
   "cell_type": "markdown",
   "metadata": {},
   "source": [
    "# Similarity between Different hashtags using spacy"
   ]
  },
  {
   "cell_type": "code",
   "execution_count": 1,
   "metadata": {
    "nbpresent": {
     "id": "a1ea255b-203b-4532-99ea-83ca8ccd86a8"
    }
   },
   "outputs": [
    {
     "data": {
      "text/plain": [
       "'2009-07-05 16:10:09\\tlimeseed\\tRT Djjask MJ Billie Dream Jask Edit Enjoy play with love Free and sour #Michael Jackson #housemusic\\tdjjask mj billi dream jask edit enjoy play love free sour jackson'"
      ]
     },
     "execution_count": 1,
     "metadata": {},
     "output_type": "execute_result"
    }
   ],
   "source": [
    "#load data\n",
    "Data= open(\"Data.txt\",\"r\").read().splitlines()\n",
    "Data[0]"
   ]
  },
  {
   "cell_type": "code",
   "execution_count": 2,
   "metadata": {
    "nbpresent": {
     "id": "8bf03c62-f378-4412-bae4-a9b2ecea1beb"
    }
   },
   "outputs": [
    {
     "data": {
      "text/plain": [
       "6"
      ]
     },
     "execution_count": 2,
     "metadata": {},
     "output_type": "execute_result"
    }
   ],
   "source": [
    "#load list of hashtags\n",
    "hash_list=['#ripmj', '#youbelongwithme', '#michaeljackson','#taylorswift','#farah','#dead']        #set(open(\"hashtags.txt\",\"r\").read().splitlines())\n",
    "len(hash_list)"
   ]
  },
  {
   "cell_type": "markdown",
   "metadata": {
    "nbpresent": {
     "id": "d1131254-0ed4-4689-a16c-428ee3bf19d6"
    }
   },
   "source": [
    "### Create a Document containing clean tweets for each hashtag\n"
   ]
  },
  {
   "cell_type": "code",
   "execution_count": 3,
   "metadata": {
    "nbpresent": {
     "id": "d49f804e-80a3-4121-8ef9-53435d3bd7b6"
    }
   },
   "outputs": [],
   "source": [
    "#creating a hashtag documents\n",
    "from collections import defaultdict\n",
    "\n",
    "doc_dict=defaultdict(list)\n",
    "\n",
    "for line in Data:\n",
    "    time,user,raw_tweet,clean_tweet= line.split('\\t')\n",
    "    hash_in_tweet = [h for h in raw_tweet.split() if h.startswith('#')]\n",
    "    for hsh in hash_in_tweet:\n",
    "        if hsh in hash_list:\n",
    "            doc_dict[hsh].extend(clean_tweet.split())"
   ]
  },
  {
   "cell_type": "code",
   "execution_count": 4,
   "metadata": {
    "nbpresent": {
     "id": "f7a61a92-957a-4485-8524-1ae32dad7a6e"
    }
   },
   "outputs": [
    {
     "data": {
      "text/plain": [
       "['mysteri',\n",
       " 'celeb',\n",
       " 'to',\n",
       " 'write',\n",
       " 'intro',\n",
       " 'to',\n",
       " 'michael',\n",
       " 'jackson',\n",
       " 'is',\n",
       " 'memoir']"
      ]
     },
     "execution_count": 4,
     "metadata": {},
     "output_type": "execute_result"
    }
   ],
   "source": [
    "#Sample Document of hashtag #ripmj\n",
    "doc_dict['#ripmj'][:10]"
   ]
  },
  {
   "cell_type": "markdown",
   "metadata": {
    "nbpresent": {
     "id": "83e03e9c-10fb-4fb5-b5a1-74e10a0f879a"
    }
   },
   "source": [
    "## Similarity between documents using spacy"
   ]
  },
  {
   "cell_type": "code",
   "execution_count": 5,
   "metadata": {
    "nbpresent": {
     "id": "2eb017da-97dc-4184-990b-45399fb6fe8c"
    }
   },
   "outputs": [],
   "source": [
    "# Import spacy and English models\n",
    "import spacy\n",
    "\n",
    "nlp = spacy.load('en')"
   ]
  },
  {
   "cell_type": "markdown",
   "metadata": {},
   "source": [
    "### Sentence TO Vector "
   ]
  },
  {
   "cell_type": "code",
   "execution_count": 6,
   "metadata": {
    "nbpresent": {
     "id": "294b2fa0-33a2-4a39-828d-5cd956b08b58"
    }
   },
   "outputs": [],
   "source": [
    "#example \n",
    "doc = nlp(u\"Apples and oranges are similar. Boots and hippos aren't.\")"
   ]
  },
  {
   "cell_type": "code",
   "execution_count": 7,
   "metadata": {},
   "outputs": [
    {
     "data": {
      "text/plain": [
       "array([  7.16891706e-01,   8.81015956e-01,   1.05671249e-01,\n",
       "         5.12764812e-01,   2.55639702e-01,  -3.74948978e-02,\n",
       "        -1.07981110e+00,   5.93306720e-01,   1.37239087e+00,\n",
       "        -2.70559996e-01,   4.87302154e-01,  -6.09425604e-01,\n",
       "         7.14151442e-01,   2.86402196e-01,   5.55537522e-01,\n",
       "        -6.27292335e-01,  -9.60178375e-01,   4.80861783e-01,\n",
       "        -8.03113461e-01,  -1.39905259e-01,   1.14121020e+00,\n",
       "        -1.04586089e+00,  -8.09619963e-01,   1.78098693e-01,\n",
       "        -1.03611588e-01,   4.56884235e-01,   9.95423421e-02,\n",
       "         3.69559079e-01,   4.30800647e-01,   1.58107567e+00,\n",
       "        -1.60123900e-01,   2.34150648e-01,  -4.88874435e-01,\n",
       "         6.39671862e-01,   6.01233058e-02,  -9.82226506e-02,\n",
       "        -6.80491149e-01,  -1.35961354e+00,  -1.26623952e+00,\n",
       "         6.90772951e-01,   9.69657004e-01,   3.32755357e-01,\n",
       "         4.61152881e-01,   8.71967793e-01,  -1.06316102e+00,\n",
       "         5.41103005e-01,   1.22881830e+00,  -3.31587158e-02,\n",
       "         1.55729401e+00,  -7.17943132e-01,  -6.08817279e-01,\n",
       "        -1.18712962e+00,  -1.47897577e+00,   4.18139011e-01,\n",
       "         6.01271868e-01,   2.44744539e+00,   5.29916942e-01,\n",
       "         1.00317633e+00,  -1.60423410e+00,  -3.34089428e-01,\n",
       "        -3.82855803e-01,  -8.17773640e-01,  -8.77182484e-01,\n",
       "        -1.64251532e-02,  -8.48906264e-02,  -5.61517239e-01,\n",
       "         1.40407050e+00,  -6.85011685e-01,  -1.38232422e+00,\n",
       "        -1.83798954e-01,  -6.96789205e-01,  -6.02467239e-01,\n",
       "        -2.01549411e-01,  -6.38732731e-01,  -2.17555904e+00,\n",
       "        -1.61798918e+00,   8.43195498e-01,  -4.68222857e-01,\n",
       "         2.83751100e-01,  -3.71284246e-01,   6.60647511e-01,\n",
       "        -1.28882027e+00,  -1.01131451e+00,  -1.84448195e+00,\n",
       "         1.20929313e+00,   1.83301532e+00,   4.42295700e-01,\n",
       "         9.27517235e-01,  -3.12668055e-01,  -2.98802286e-01,\n",
       "         9.83076021e-02,   5.37292302e-01,  -1.86591029e-01,\n",
       "        -7.73862064e-01,  -7.99561024e-01,   1.54595292e+00,\n",
       "        -2.12527946e-01,   3.62102389e-01,   6.59845889e-01,\n",
       "        -1.76628339e+00,  -4.65789318e-01,   6.67711735e-01,\n",
       "         3.24929446e-01,  -5.62141597e-01,   6.18440568e-01,\n",
       "        -5.77681601e-01,   8.87196362e-01,  -1.17181027e+00,\n",
       "        -9.05400693e-01,   5.70371263e-02,   9.62103426e-01,\n",
       "         1.80296385e+00,   8.32354203e-02,  -5.68278790e-01,\n",
       "         9.27224338e-01,   1.53818369e+00,  -1.26479638e+00,\n",
       "        -1.15298629e-01,  -4.68030542e-01,   1.11901009e+00,\n",
       "         1.88342655e+00,  -1.15371788e+00,   8.28411758e-01,\n",
       "         6.29208460e-02,   1.15871966e+00,  -5.47746599e-01,\n",
       "        -1.41181782e-01,  -1.05791569e+00,  -1.37156472e-01,\n",
       "         1.26663730e-01,  -8.04764330e-02,   1.60714388e-02,\n",
       "         1.04984157e-01,  -5.87965399e-02,   1.06135570e-01,\n",
       "         1.99147031e-01,  -1.49016201e-01,   1.70097370e-02,\n",
       "        -5.40959276e-02,  -3.43682051e-01,   1.14390492e-01,\n",
       "        -2.97447294e-02,   1.20915018e-01,   2.39839256e-01,\n",
       "         1.86373934e-01,   3.46770972e-01,  -1.86530784e-01,\n",
       "         1.47430286e-01,   1.17641956e-01,   1.47130787e-01,\n",
       "        -1.55999973e-01,  -1.55378938e-01,  -7.07813352e-03,\n",
       "        -3.24603289e-01,  -2.23031238e-01,  -1.76787257e-01,\n",
       "        -1.24147870e-01,  -4.18680198e-02,  -1.49481371e-01,\n",
       "        -1.58007488e-01,   3.16411518e-02,  -1.79451391e-01,\n",
       "        -5.89477420e-02,  -2.07463026e-01,   6.21026941e-02,\n",
       "        -2.54074931e-01,   3.90908033e-01,  -5.78285158e-02,\n",
       "         1.41226739e-01,   1.06895685e-01,  -7.27686957e-02,\n",
       "        -4.49555069e-02,   2.52058148e-01,  -2.13545844e-01,\n",
       "         2.32660528e-02,   3.02489847e-01,  -2.12007359e-01,\n",
       "         3.58273953e-01,  -6.43028617e-02,   4.34543341e-02,\n",
       "         3.65499258e-02,  -2.21484229e-01,   4.00252007e-02,\n",
       "         2.57242769e-01,   1.64033547e-01,   4.34433222e-02,\n",
       "         3.12282771e-01,   6.50758818e-02,   3.88996810e-01,\n",
       "        -1.38672382e-01,  -2.63866801e-02,   5.68448305e-02,\n",
       "         7.12071061e-02,  -1.22585125e-01,   2.47557629e-02,\n",
       "        -3.09212327e-01,  -1.16864897e-01,   4.12717462e-01,\n",
       "        -4.74558085e-01,  -1.93457067e-01,   1.27983138e-01,\n",
       "        -2.43208054e-02,   1.38751268e-01,  -1.20184906e-01,\n",
       "        -1.74729154e-01,   2.34273612e-01,   3.04936677e-01,\n",
       "        -1.31723419e-01,  -6.86970174e-01,  -1.23737842e-01,\n",
       "        -2.53124032e-02,  -1.86052516e-01,  -5.87764243e-03,\n",
       "         7.80431107e-02,  -3.42816502e-01,   1.50196716e-01,\n",
       "        -7.99891576e-02,   2.80084223e-01,   6.61123246e-02,\n",
       "        -4.32330966e-01,  -2.33900473e-02,  -4.52880673e-02,\n",
       "         8.13409165e-02,   1.66560300e-02,  -1.38952315e-01,\n",
       "         2.38201097e-01,  -2.30022192e-01,  -2.21755862e-01,\n",
       "         9.19926390e-02,   4.00809765e-01,   4.29819822e-02,\n",
       "         5.72239041e-01,   2.09935620e-01,  -2.07870290e-01,\n",
       "        -9.08179507e-02,   6.39623463e-01,  -1.60075918e-01,\n",
       "        -1.11203432e-01,  -6.30206093e-02,   4.90730740e-02,\n",
       "         5.35934567e-02,  -2.52724677e-01,  -2.25339189e-01,\n",
       "        -2.50089973e-01,   1.32784978e-01,   2.56040901e-01,\n",
       "        -7.14648282e-03,   8.07579830e-02,   2.52743661e-01,\n",
       "        -2.16748834e-01,  -4.24762852e-02,   1.27937108e-01,\n",
       "         2.81637639e-01,  -6.39573634e-02,   1.07699640e-01,\n",
       "         7.59336650e-01,  -1.99188944e-02,   8.83017406e-02,\n",
       "        -5.06512113e-02,   1.12524383e-01,  -1.68003544e-01,\n",
       "        -3.33286911e-01,  -2.14167401e-01,   3.28311361e-02,\n",
       "         2.58538295e-02,  -1.85086608e-01,  -3.45800012e-01,\n",
       "        -1.48928151e-01,   9.79009345e-02,  -9.67944637e-02,\n",
       "         9.34656039e-02,   5.56385815e-01,   2.43014023e-01,\n",
       "        -1.86127976e-01,  -1.46360025e-01,  -3.25090110e-01,\n",
       "         6.26177574e-03,  -6.69682538e-03,   3.11102867e-01,\n",
       "        -5.74445911e-02,  -1.87078714e-01,   5.05914867e-01,\n",
       "        -2.75362115e-02,   2.14231789e-01,   3.42205353e-02,\n",
       "         1.66704282e-01,  -2.90523857e-01,  -2.49811411e-01,\n",
       "        -4.50654738e-02,   1.12994760e-01,  -1.38949335e-01,\n",
       "         7.12693185e-02,  -1.85276847e-02,   1.98451281e-01,\n",
       "         3.76875512e-02,  -2.65487701e-01,   7.34195858e-03,\n",
       "        -1.26448080e-01,   1.66934296e-01,  -2.02207133e-01,\n",
       "        -1.54133186e-01,  -1.86036065e-01,  -2.35078767e-01,\n",
       "        -3.66056651e-01,   1.07715698e-02,  -2.96916246e-01,\n",
       "         2.62456536e-01,  -2.27963045e-01,  -3.10928766e-02,\n",
       "         1.94625095e-01,  -1.28194928e-01,   1.06713600e-01,\n",
       "        -1.52441129e-01,   1.35115907e-01,   2.65092075e-01,\n",
       "        -1.14875294e-01,   1.56396255e-01,   4.56901550e-01,\n",
       "        -2.00482845e-01,   3.41604441e-01,   2.14390337e-01,\n",
       "         2.69070536e-01,  -2.66110450e-01,   1.97400793e-01,\n",
       "        -2.57610887e-01,   6.28255829e-02,  -1.63720608e-01,\n",
       "        -1.32787600e-01,   2.37044826e-01,   3.20128649e-01,\n",
       "         1.84281811e-01,  -3.25543098e-02,  -8.91360864e-02,\n",
       "         2.52443939e-01,  -1.48916364e-01,  -2.33680844e-01,\n",
       "        -1.84926391e-01,   1.63462907e-02,  -2.33273104e-01,\n",
       "        -1.27830386e-01,  -1.61307693e-01,  -5.11760563e-02,\n",
       "         1.02013439e-01,   1.18444435e-01,  -1.36547536e-01,\n",
       "        -1.91361681e-01,  -1.16710909e-01,   1.92813993e-01,\n",
       "         2.43947908e-01,  -1.32348984e-01,  -2.33469486e-01,\n",
       "         7.20315650e-02,  -2.70288348e-01,   9.82498229e-02,\n",
       "         8.91772434e-02,   1.63833484e-01,  -9.66945812e-02,\n",
       "        -2.95898110e-01,  -2.79917538e-01,  -3.18783849e-01,\n",
       "        -4.84598093e-02,   2.84178138e-01,   1.65171221e-01,\n",
       "         9.33536291e-02,  -4.40087527e-01,  -7.38382712e-02,\n",
       "         3.71472150e-01,  -1.52956679e-01,   3.82237673e-01,\n",
       "        -1.87274944e-02,  -1.46946251e-01,   1.07038021e-03,\n",
       "        -1.01805240e-01,  -1.24490909e-01,   1.62643805e-01,\n",
       "         1.98582970e-02,  -8.61764420e-03,  -1.12194799e-01,\n",
       "         1.83035299e-01,   2.40515292e-01,  -1.26693323e-01,\n",
       "         4.92127873e-02,   1.45836174e-02,  -2.00601090e-02], dtype=float32)"
      ]
     },
     "execution_count": 7,
     "metadata": {},
     "output_type": "execute_result"
    }
   ],
   "source": [
    "doc.vector"
   ]
  },
  {
   "cell_type": "code",
   "execution_count": 8,
   "metadata": {},
   "outputs": [
    {
     "name": "stdout",
     "output_type": "stream",
     "text": [
      "0.519023\n"
     ]
    }
   ],
   "source": [
    "#Similarity between apple and Orange\n",
    "apple=doc[0]\n",
    "orange=doc[2]\n",
    "print(apple.similarity(orange))"
   ]
  },
  {
   "cell_type": "code",
   "execution_count": 9,
   "metadata": {},
   "outputs": [
    {
     "data": {
      "text/plain": [
       "['#ripmj', '#youbelongwithme', '#michaeljackson']"
      ]
     },
     "execution_count": 9,
     "metadata": {},
     "output_type": "execute_result"
    }
   ],
   "source": [
    "#Back to our mj example\n",
    "hash_list[:3]"
   ]
  },
  {
   "cell_type": "code",
   "execution_count": 10,
   "metadata": {},
   "outputs": [],
   "source": [
    "#set to unicode for all hashtags documents\n",
    "def s2u(hsh):\n",
    "    return unicode(' '.join(doc_dict[hsh]))"
   ]
  },
  {
   "cell_type": "code",
   "execution_count": 11,
   "metadata": {},
   "outputs": [],
   "source": [
    "#insert unicode into spacy nlp model \n",
    "\n",
    "ripmj = nlp(s2u('#ripmj'))\n",
    "michaeljackson =nlp(s2u('#michaeljackson'))\n",
    "\n",
    "dead=nlp(s2u('#dead'))\n",
    "farah_fawcett =nlp(s2u('#farah'))\n",
    "\n",
    "taylorswift=nlp(s2u('#taylorswift'))\n",
    "youbelongwithme =nlp(s2u('#youbelongwithme'))"
   ]
  },
  {
   "cell_type": "code",
   "execution_count": 12,
   "metadata": {},
   "outputs": [
    {
     "data": {
      "text/plain": [
       "array([ 0.08098714,  0.32888556,  0.22106627,  0.52919757,  0.43473989,\n",
       "        0.14844364, -2.13575006, -0.47618693,  0.63527089,  0.75624341,\n",
       "        0.68723834, -1.27159286,  0.00983675, -0.13590679, -1.61605716,\n",
       "       -0.6661911 , -1.7092253 , -1.12454951, -1.42362142,  0.1617438 ,\n",
       "        0.89615762,  0.8162567 ,  0.23041788,  0.36727837, -0.67473179,\n",
       "       -1.16513574, -0.05817394,  1.83028221, -0.23104751, -0.51598132,\n",
       "       -0.79086059,  0.34373793,  0.63455135, -0.27843681, -0.7973845 ,\n",
       "       -0.82402134,  1.72632694, -0.87892234,  0.99042892,  0.83888119,\n",
       "       -1.20075047, -0.24830444,  1.01165187,  0.21414438, -0.38837963,\n",
       "        0.11115067, -0.93013382, -0.0334683 ,  0.86103106, -0.47727364], dtype=float32)"
      ]
     },
     "execution_count": 12,
     "metadata": {},
     "output_type": "execute_result"
    }
   ],
   "source": [
    "# HASHTAG TO VECTOR\n",
    "\n",
    "ripmj.vector[:50]"
   ]
  },
  {
   "cell_type": "markdown",
   "metadata": {},
   "source": [
    "### Lets see Similarity between #ripmj and others.\n",
    "\n",
    "#### Spacy can clearly tell that #ripmj is more related to #dead and #michaeljackson rather than to a song #youbelongwithme \n"
   ]
  },
  {
   "cell_type": "code",
   "execution_count": 13,
   "metadata": {},
   "outputs": [
    {
     "name": "stdout",
     "output_type": "stream",
     "text": [
      "0.992128974238\n"
     ]
    }
   ],
   "source": [
    "print(ripmj.similarity(michaeljackson))"
   ]
  },
  {
   "cell_type": "code",
   "execution_count": 14,
   "metadata": {},
   "outputs": [
    {
     "name": "stdout",
     "output_type": "stream",
     "text": [
      "0.829779754703\n"
     ]
    }
   ],
   "source": [
    "print(ripmj.similarity(youbelongwithme))"
   ]
  },
  {
   "cell_type": "code",
   "execution_count": 15,
   "metadata": {},
   "outputs": [
    {
     "name": "stdout",
     "output_type": "stream",
     "text": [
      "0.981694389032\n"
     ]
    }
   ],
   "source": [
    "print(ripmj.similarity(dead))"
   ]
  },
  {
   "cell_type": "markdown",
   "metadata": {},
   "source": [
    "\n",
    "### Lets see whoose dead ?\n",
    "\n",
    "**Interestingly, taylor is more related to #dead than farah_fawcett**"
   ]
  },
  {
   "cell_type": "code",
   "execution_count": 16,
   "metadata": {},
   "outputs": [
    {
     "name": "stdout",
     "output_type": "stream",
     "text": [
      "0.957861034282\n"
     ]
    }
   ],
   "source": [
    "print(dead.similarity(taylorswift))"
   ]
  },
  {
   "cell_type": "code",
   "execution_count": 17,
   "metadata": {},
   "outputs": [
    {
     "name": "stdout",
     "output_type": "stream",
     "text": [
      "0.993253423913\n"
     ]
    }
   ],
   "source": [
    "print(dead.similarity(michaeljackson))"
   ]
  },
  {
   "cell_type": "code",
   "execution_count": 18,
   "metadata": {},
   "outputs": [
    {
     "name": "stdout",
     "output_type": "stream",
     "text": [
      "0.944423525541\n"
     ]
    }
   ],
   "source": [
    "print(dead.similarity(farah_fawcett))"
   ]
  }
 ],
 "metadata": {
  "kernelspec": {
   "display_name": "Python [conda env:spark]",
   "language": "python",
   "name": "conda-env-spark-py"
  },
  "language_info": {
   "codemirror_mode": {
    "name": "ipython",
    "version": 2
   },
   "file_extension": ".py",
   "mimetype": "text/x-python",
   "name": "python",
   "nbconvert_exporter": "python",
   "pygments_lexer": "ipython2",
   "version": "2.7.15"
  },
  "nbpresent": {
   "slides": {},
   "themes": {
    "default": "3de19912-b38c-4322-a660-5a26b9468c97",
    "theme": {
     "3de19912-b38c-4322-a660-5a26b9468c97": {
      "backgrounds": {
       "backgroundColor": {
        "background-color": "backgroundColor",
        "id": "backgroundColor"
       }
      },
      "id": "3de19912-b38c-4322-a660-5a26b9468c97",
      "palette": {
       "backgroundColor": {
        "id": "backgroundColor",
        "rgb": [
         17,
         17,
         17
        ]
       },
       "headingColor": {
        "id": "headingColor",
        "rgb": [
         238,
         238,
         238
        ]
       },
       "linkColor": {
        "id": "linkColor",
        "rgb": [
         231,
         173,
         82
        ]
       },
       "mainColor": {
        "id": "mainColor",
        "rgb": [
         238,
         238,
         238
        ]
       }
      },
      "rules": {
       "a": {
        "color": "linkColor"
       },
       "h1": {
        "color": "headingColor",
        "font-family": "Montserrat",
        "font-size": 7
       },
       "h2": {
        "color": "headingColor",
        "font-family": "Montserrat",
        "font-size": 5
       },
       "h3": {
        "color": "headingColor",
        "font-family": "Montserrat",
        "font-size": 3.75
       },
       "h4": {
        "color": "headingColor",
        "font-family": "Montserrat",
        "font-size": 3
       },
       "h5": {
        "color": "headingColor",
        "font-family": "Montserrat"
       },
       "h6": {
        "color": "headingColor",
        "font-family": "Montserrat"
       },
       "h7": {
        "color": "headingColor",
        "font-family": "Montserrat"
       },
       "li": {
        "color": "mainColor",
        "font-family": "Open Sans",
        "font-size": 4
       },
       "p": {
        "color": "mainColor",
        "font-family": "Open Sans",
        "font-size": 4
       }
      },
      "text-base": {
       "color": "mainColor",
       "font-family": "Open Sans",
       "font-size": 4
      }
     },
     "b0ef59f4-661f-4d32-b052-ddf19d0df958": {
      "backgrounds": {
       "backgroundColor": {
        "background-color": "backgroundColor",
        "id": "backgroundColor"
       }
      },
      "id": "b0ef59f4-661f-4d32-b052-ddf19d0df958",
      "palette": {
       "backgroundColor": {
        "id": "backgroundColor",
        "rgb": [
         34,
         34,
         34
        ]
       },
       "headingColor": {
        "id": "headingColor",
        "rgb": [
         238,
         238,
         238
        ]
       },
       "linkColor": {
        "id": "linkColor",
        "rgb": [
         170,
         34,
         51
        ]
       },
       "mainColor": {
        "id": "mainColor",
        "rgb": [
         238,
         238,
         238
        ]
       }
      },
      "rules": {
       "a": {
        "color": "linkColor"
       },
       "h1": {
        "color": "headingColor",
        "font-family": "Ubuntu",
        "font-size": 7
       },
       "h2": {
        "color": "headingColor",
        "font-family": "Ubuntu",
        "font-size": 5
       },
       "h3": {
        "color": "headingColor",
        "font-family": "Ubuntu",
        "font-size": 3.75
       },
       "h4": {
        "color": "headingColor",
        "font-family": "Ubuntu",
        "font-size": 3
       },
       "h5": {
        "color": "headingColor",
        "font-family": "Ubuntu"
       },
       "h6": {
        "color": "headingColor",
        "font-family": "Ubuntu"
       },
       "h7": {
        "color": "headingColor",
        "font-family": "Ubuntu"
       },
       "li": {
        "color": "mainColor",
        "font-family": "Ubuntu",
        "font-size": 5
       },
       "p": {
        "color": "mainColor",
        "font-family": "Ubuntu",
        "font-size": 5
       }
      },
      "text-base": {
       "color": "mainColor",
       "font-family": "Ubuntu",
       "font-size": 5
      }
     },
     "c1eb01eb-bf43-4561-86a2-86d3097906ad": {
      "backgrounds": {
       "backgroundColor": {
        "background-color": "backgroundColor",
        "id": "backgroundColor"
       }
      },
      "id": "c1eb01eb-bf43-4561-86a2-86d3097906ad",
      "palette": {
       "backgroundColor": {
        "id": "backgroundColor",
        "rgb": [
         247,
         243,
         222
        ]
       },
       "headingColor": {
        "id": "headingColor",
        "rgb": [
         51,
         51,
         51
        ]
       },
       "linkColor": {
        "id": "linkColor",
        "rgb": [
         139,
         116,
         61
        ]
       },
       "mainColor": {
        "id": "mainColor",
        "rgb": [
         51,
         51,
         51
        ]
       }
      },
      "rules": {
       "a": {
        "color": "linkColor"
       },
       "h1": {
        "color": "headingColor",
        "font-family": "Oswald",
        "font-size": 7
       },
       "h2": {
        "color": "headingColor",
        "font-family": "Oswald",
        "font-size": 5
       },
       "h3": {
        "color": "headingColor",
        "font-family": "Oswald",
        "font-size": 3.75
       },
       "h4": {
        "color": "headingColor",
        "font-family": "Oswald",
        "font-size": 3
       },
       "h5": {
        "color": "headingColor",
        "font-family": "Oswald"
       },
       "h6": {
        "color": "headingColor",
        "font-family": "Oswald"
       },
       "h7": {
        "color": "headingColor",
        "font-family": "Oswald"
       },
       "li": {
        "color": "mainColor",
        "font-family": "Lato",
        "font-size": 5
       },
       "p": {
        "color": "mainColor",
        "font-family": "Lato",
        "font-size": 5
       }
      },
      "text-base": {
       "color": "mainColor",
       "font-family": "Lato",
       "font-size": 5
      }
     }
    }
   }
  }
 },
 "nbformat": 4,
 "nbformat_minor": 2
}
