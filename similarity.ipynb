{
 "cells": [
  {
   "cell_type": "markdown",
   "metadata": {},
   "source": [
    "# Similarity between Different hashtags using spacy"
   ]
  },
  {
   "cell_type": "code",
   "execution_count": 90,
   "metadata": {
    "nbpresent": {
     "id": "a1ea255b-203b-4532-99ea-83ca8ccd86a8"
    }
   },
   "outputs": [
    {
     "data": {
      "text/plain": [
       "'2009-07-05 16:10:09\\tlimeseed\\tRT Djjask MJ Billie Dream Jask Edit Enjoy play with love Free and sour #Michael Jackson #housemusic\\tdjjask mj billi dream jask edit enjoy play love free sour jackson'"
      ]
     },
     "execution_count": 90,
     "metadata": {},
     "output_type": "execute_result"
    }
   ],
   "source": [
    "#load data\n",
    "Data= open(\"Data.txt\",\"r\").read().splitlines()\n",
    "Data[0]"
   ]
  },
  {
   "cell_type": "code",
   "execution_count": 183,
   "metadata": {
    "nbpresent": {
     "id": "8bf03c62-f378-4412-bae4-a9b2ecea1beb"
    }
   },
   "outputs": [
    {
     "data": {
      "text/plain": [
       "6"
      ]
     },
     "execution_count": 183,
     "metadata": {},
     "output_type": "execute_result"
    }
   ],
   "source": [
    "#load list of hashtags\n",
    "hash_list=['#ripmj', '#youbelongwithme', '#michaeljackson','#taylorswift','#farah','#dead']        #set(open(\"hashtags.txt\",\"r\").read().splitlines())\n",
    "len(hash_list)"
   ]
  },
  {
   "cell_type": "markdown",
   "metadata": {
    "nbpresent": {
     "id": "d1131254-0ed4-4689-a16c-428ee3bf19d6"
    }
   },
   "source": [
    "### Create a Document containing clean tweets for each hashtag\n"
   ]
  },
  {
   "cell_type": "code",
   "execution_count": 184,
   "metadata": {
    "nbpresent": {
     "id": "d49f804e-80a3-4121-8ef9-53435d3bd7b6"
    }
   },
   "outputs": [],
   "source": [
    "from collections import defaultdict\n",
    "\n",
    "doc_dict=defaultdict(set)\n",
    "\n",
    "for line in Data:\n",
    "    time,user,raw_tweet,clean_tweet= line.split('\\t')\n",
    "    hash_in_tweet = [h for h in raw_tweet.split() if h.startswith('#')]\n",
    "    for hsh in hash_in_tweet:\n",
    "        if hsh in hash_list:\n",
    "            doc_dict[hsh].update(clean_tweet.split())"
   ]
  },
  {
   "cell_type": "code",
   "execution_count": 186,
   "metadata": {
    "nbpresent": {
     "id": "f7a61a92-957a-4485-8524-1ae32dad7a6e"
    }
   },
   "outputs": [
    {
     "data": {
      "text/plain": [
       "{'1',\n",
       " '200',\n",
       " '3246',\n",
       " '646',\n",
       " 'billi',\n",
       " 'call',\n",
       " 'cancer',\n",
       " 'dead',\n",
       " 'death',\n",
       " 'fawcet',\n",
       " 'fawcett',\n",
       " 'fought',\n",
       " 'go',\n",
       " 'hour',\n",
       " 'i',\n",
       " 'ill',\n",
       " 'indistinguish',\n",
       " 'jackson',\n",
       " 'join',\n",
       " 'just',\n",
       " 'king',\n",
       " 'lawson',\n",
       " 'like',\n",
       " 'live',\n",
       " 'may',\n",
       " 'mcmahon',\n",
       " 'medic',\n",
       " 'new',\n",
       " 'now',\n",
       " 'pandith',\n",
       " 'pretti',\n",
       " 'say',\n",
       " 'show',\n",
       " 'soon',\n",
       " 'st',\n",
       " 'the',\n",
       " 'think',\n",
       " 'top',\n",
       " 'topic',\n",
       " 'tortur',\n",
       " 'treatment',\n",
       " 'upstag',\n",
       " 'video',\n",
       " 'watch',\n",
       " 'what',\n",
       " 'willi'}"
      ]
     },
     "execution_count": 186,
     "metadata": {},
     "output_type": "execute_result"
    }
   ],
   "source": [
    "doc_dict['#farah']"
   ]
  },
  {
   "cell_type": "markdown",
   "metadata": {
    "nbpresent": {
     "id": "83e03e9c-10fb-4fb5-b5a1-74e10a0f879a"
    }
   },
   "source": [
    "## Similarity between documents using spacy"
   ]
  },
  {
   "cell_type": "code",
   "execution_count": 187,
   "metadata": {
    "nbpresent": {
     "id": "2eb017da-97dc-4184-990b-45399fb6fe8c"
    }
   },
   "outputs": [],
   "source": [
    "# Import spacy and English models\n",
    "import spacy\n",
    "\n",
    "nlp = spacy.load('en')"
   ]
  },
  {
   "cell_type": "code",
   "execution_count": 95,
   "metadata": {
    "nbpresent": {
     "id": "294b2fa0-33a2-4a39-828d-5cd956b08b58"
    }
   },
   "outputs": [
    {
     "name": "stdout",
     "output_type": "stream",
     "text": [
      "0.5190232\n"
     ]
    }
   ],
   "source": [
    "#example\n",
    "doc = nlp(u\"Apples and oranges are similar. Boots and hippos aren't.\")\n",
    "apple=doc[0]\n",
    "orange=doc[2]\n",
    "print(apples.similarity(orange))"
   ]
  },
  {
   "cell_type": "code",
   "execution_count": 190,
   "metadata": {},
   "outputs": [
    {
     "data": {
      "text/plain": [
       "['#ripmj', '#youbelongwithme', '#michaeljackson']"
      ]
     },
     "execution_count": 190,
     "metadata": {},
     "output_type": "execute_result"
    }
   ],
   "source": [
    "#hash_list=doc_dict.keys()\n",
    "hash_list[:3]"
   ]
  },
  {
   "cell_type": "code",
   "execution_count": 192,
   "metadata": {},
   "outputs": [],
   "source": [
    "#set to unicode for all hashtags\n",
    "def s2u(hsh):\n",
    "    return unicode(' '.join(doc_dict[hsh]))"
   ]
  },
  {
   "cell_type": "code",
   "execution_count": 193,
   "metadata": {},
   "outputs": [],
   "source": [
    "#insert unicode into spacy nlp model \n",
    "\n",
    "ripmj = nlp(s2u('#ripmj'))\n",
    "michaeljackson =nlp(s2u('#michaeljackson'))\n",
    "\n",
    "dead=nlp(s2u('#dead'))\n",
    "farah_fawcett =nlp(s2u('#farah'))\n",
    "\n",
    "taylorswift=nlp(s2u('#taylorswift'))\n",
    "youbelongwithme =nlp(s2u('#youbelongwithme'))"
   ]
  },
  {
   "cell_type": "markdown",
   "metadata": {},
   "source": [
    "### Lets see relation between #ripmj and others."
   ]
  },
  {
   "cell_type": "code",
   "execution_count": 194,
   "metadata": {},
   "outputs": [
    {
     "name": "stdout",
     "output_type": "stream",
     "text": [
      "0.9843888404421038\n"
     ]
    }
   ],
   "source": [
    "print(ripmj.similarity(michaeljackson))"
   ]
  },
  {
   "cell_type": "code",
   "execution_count": 195,
   "metadata": {},
   "outputs": [
    {
     "name": "stdout",
     "output_type": "stream",
     "text": [
      "0.8714362183269412\n"
     ]
    }
   ],
   "source": [
    "print(ripmj.similarity(youbelongwithme))"
   ]
  },
  {
   "cell_type": "code",
   "execution_count": 196,
   "metadata": {},
   "outputs": [
    {
     "name": "stdout",
     "output_type": "stream",
     "text": [
      "0.9916922193624622\n"
     ]
    }
   ],
   "source": [
    "print(ripmj.similarity(dead))"
   ]
  },
  {
   "cell_type": "markdown",
   "metadata": {},
   "source": [
    "#### Spacy can clearly tell that #ripmj is more related to #dead and #michaeljackson rather than to a song #youbelongwithme \n",
    "\n",
    "### Lets see whoose dead ?"
   ]
  },
  {
   "cell_type": "code",
   "execution_count": 197,
   "metadata": {},
   "outputs": [
    {
     "name": "stdout",
     "output_type": "stream",
     "text": [
      "0.9713543287315464\n"
     ]
    }
   ],
   "source": [
    "print(dead.similarity(taylorswift))"
   ]
  },
  {
   "cell_type": "code",
   "execution_count": 198,
   "metadata": {},
   "outputs": [
    {
     "name": "stdout",
     "output_type": "stream",
     "text": [
      "0.988485355164151\n"
     ]
    }
   ],
   "source": [
    "print(dead.similarity(michaeljackson))"
   ]
  },
  {
   "cell_type": "code",
   "execution_count": 199,
   "metadata": {},
   "outputs": [
    {
     "name": "stdout",
     "output_type": "stream",
     "text": [
      "0.9504751481548745\n"
     ]
    }
   ],
   "source": [
    "print(dead.similarity(farah_fawcett))"
   ]
  },
  {
   "cell_type": "markdown",
   "metadata": {},
   "source": [
    "**Interestingly, taylor is more related to #dead than farah_fawcett**"
   ]
  },
  {
   "cell_type": "code",
   "execution_count": 200,
   "metadata": {},
   "outputs": [
    {
     "name": "stdout",
     "output_type": "stream",
     "text": [
      "275\n",
      "79\n",
      "5459\n",
      "46\n"
     ]
    }
   ],
   "source": [
    "print len(dead)\n",
    "print len(taylorswift)\n",
    "print len(michaeljackson)\n",
    "print len(farah_fawcett)"
   ]
  },
  {
   "cell_type": "code",
   "execution_count": 160,
   "metadata": {},
   "outputs": [
    {
     "data": {
      "text/plain": [
       "reuter ridicul just photo cheap actress year-old kill anneverseri hell fawcett caruso despit decid lalalalalalala 20 nice twitter parad errol ele pina jak th clarenc real bausch fate 10 assim wagner dan watch da break wikipedia know veri world one day d tri billi disturb zdementowa like incred did die henri michael yasmin ahmad leader p she would-b found cri goggl alicanth kann week j dean allingham caalll trend sigh granai nur direct dead 50 mouuuuarf see are may year et conscient wonder lmbo gross est jackson tipo space mac_nois sprawa content slocomb en alison wilsonelli new mier 911 email wa cru waller hulk boss meu outnumb death let news cara bodi mond ich metro gojamaica militari could parisien v o le american besttigen tout gordon done que wanna produc jack first feed via love wideo feel tackl tuesday ciaomunch number pop walk guard alreadi 64 long famili uncensor home pussi fight dr_emik memor hitler charli better use sad spam bookmark top dude mort next 2 call interest prez morn white cohen store becam lang murder qqio upcom alexi faucet yeah glass link lilladay choreograph ha uncut me accid olhem look mosshart hous car sterben work mieszna cambridg final will directori gucci r idol mr im problem danc connect rock937fm taylor ad angel schner is modern pri it pig ap caution british want cultur scienc lie obituari no pronounc make 45 when degre 1 funni take you cannnnnnnnnnnnt mit une poor rt war star cgenin who audition du birthday afghan blackfeet grave ago villag remix center freetekno wife i secur robot farrah truck talk potenti far the veteran fact latest"
      ]
     },
     "execution_count": 160,
     "metadata": {},
     "output_type": "execute_result"
    }
   ],
   "source": [
    "dead"
   ]
  },
  {
   "cell_type": "code",
   "execution_count": null,
   "metadata": {},
   "outputs": [],
   "source": [
    "\n"
   ]
  },
  {
   "cell_type": "code",
   "execution_count": null,
   "metadata": {},
   "outputs": [],
   "source": []
  }
 ],
 "metadata": {
  "kernelspec": {
   "display_name": "Python [conda env:spark]",
   "language": "python",
   "name": "conda-env-spark-py"
  },
  "language_info": {
   "codemirror_mode": {
    "name": "ipython",
    "version": 2
   },
   "file_extension": ".py",
   "mimetype": "text/x-python",
   "name": "python",
   "nbconvert_exporter": "python",
   "pygments_lexer": "ipython2",
   "version": "2.7.15"
  },
  "nbpresent": {
   "slides": {},
   "themes": {
    "default": "3de19912-b38c-4322-a660-5a26b9468c97",
    "theme": {
     "3de19912-b38c-4322-a660-5a26b9468c97": {
      "backgrounds": {
       "backgroundColor": {
        "background-color": "backgroundColor",
        "id": "backgroundColor"
       }
      },
      "id": "3de19912-b38c-4322-a660-5a26b9468c97",
      "palette": {
       "backgroundColor": {
        "id": "backgroundColor",
        "rgb": [
         17,
         17,
         17
        ]
       },
       "headingColor": {
        "id": "headingColor",
        "rgb": [
         238,
         238,
         238
        ]
       },
       "linkColor": {
        "id": "linkColor",
        "rgb": [
         231,
         173,
         82
        ]
       },
       "mainColor": {
        "id": "mainColor",
        "rgb": [
         238,
         238,
         238
        ]
       }
      },
      "rules": {
       "a": {
        "color": "linkColor"
       },
       "h1": {
        "color": "headingColor",
        "font-family": "Montserrat",
        "font-size": 7
       },
       "h2": {
        "color": "headingColor",
        "font-family": "Montserrat",
        "font-size": 5
       },
       "h3": {
        "color": "headingColor",
        "font-family": "Montserrat",
        "font-size": 3.75
       },
       "h4": {
        "color": "headingColor",
        "font-family": "Montserrat",
        "font-size": 3
       },
       "h5": {
        "color": "headingColor",
        "font-family": "Montserrat"
       },
       "h6": {
        "color": "headingColor",
        "font-family": "Montserrat"
       },
       "h7": {
        "color": "headingColor",
        "font-family": "Montserrat"
       },
       "li": {
        "color": "mainColor",
        "font-family": "Open Sans",
        "font-size": 4
       },
       "p": {
        "color": "mainColor",
        "font-family": "Open Sans",
        "font-size": 4
       }
      },
      "text-base": {
       "color": "mainColor",
       "font-family": "Open Sans",
       "font-size": 4
      }
     },
     "b0ef59f4-661f-4d32-b052-ddf19d0df958": {
      "backgrounds": {
       "backgroundColor": {
        "background-color": "backgroundColor",
        "id": "backgroundColor"
       }
      },
      "id": "b0ef59f4-661f-4d32-b052-ddf19d0df958",
      "palette": {
       "backgroundColor": {
        "id": "backgroundColor",
        "rgb": [
         34,
         34,
         34
        ]
       },
       "headingColor": {
        "id": "headingColor",
        "rgb": [
         238,
         238,
         238
        ]
       },
       "linkColor": {
        "id": "linkColor",
        "rgb": [
         170,
         34,
         51
        ]
       },
       "mainColor": {
        "id": "mainColor",
        "rgb": [
         238,
         238,
         238
        ]
       }
      },
      "rules": {
       "a": {
        "color": "linkColor"
       },
       "h1": {
        "color": "headingColor",
        "font-family": "Ubuntu",
        "font-size": 7
       },
       "h2": {
        "color": "headingColor",
        "font-family": "Ubuntu",
        "font-size": 5
       },
       "h3": {
        "color": "headingColor",
        "font-family": "Ubuntu",
        "font-size": 3.75
       },
       "h4": {
        "color": "headingColor",
        "font-family": "Ubuntu",
        "font-size": 3
       },
       "h5": {
        "color": "headingColor",
        "font-family": "Ubuntu"
       },
       "h6": {
        "color": "headingColor",
        "font-family": "Ubuntu"
       },
       "h7": {
        "color": "headingColor",
        "font-family": "Ubuntu"
       },
       "li": {
        "color": "mainColor",
        "font-family": "Ubuntu",
        "font-size": 5
       },
       "p": {
        "color": "mainColor",
        "font-family": "Ubuntu",
        "font-size": 5
       }
      },
      "text-base": {
       "color": "mainColor",
       "font-family": "Ubuntu",
       "font-size": 5
      }
     },
     "c1eb01eb-bf43-4561-86a2-86d3097906ad": {
      "backgrounds": {
       "backgroundColor": {
        "background-color": "backgroundColor",
        "id": "backgroundColor"
       }
      },
      "id": "c1eb01eb-bf43-4561-86a2-86d3097906ad",
      "palette": {
       "backgroundColor": {
        "id": "backgroundColor",
        "rgb": [
         247,
         243,
         222
        ]
       },
       "headingColor": {
        "id": "headingColor",
        "rgb": [
         51,
         51,
         51
        ]
       },
       "linkColor": {
        "id": "linkColor",
        "rgb": [
         139,
         116,
         61
        ]
       },
       "mainColor": {
        "id": "mainColor",
        "rgb": [
         51,
         51,
         51
        ]
       }
      },
      "rules": {
       "a": {
        "color": "linkColor"
       },
       "h1": {
        "color": "headingColor",
        "font-family": "Oswald",
        "font-size": 7
       },
       "h2": {
        "color": "headingColor",
        "font-family": "Oswald",
        "font-size": 5
       },
       "h3": {
        "color": "headingColor",
        "font-family": "Oswald",
        "font-size": 3.75
       },
       "h4": {
        "color": "headingColor",
        "font-family": "Oswald",
        "font-size": 3
       },
       "h5": {
        "color": "headingColor",
        "font-family": "Oswald"
       },
       "h6": {
        "color": "headingColor",
        "font-family": "Oswald"
       },
       "h7": {
        "color": "headingColor",
        "font-family": "Oswald"
       },
       "li": {
        "color": "mainColor",
        "font-family": "Lato",
        "font-size": 5
       },
       "p": {
        "color": "mainColor",
        "font-family": "Lato",
        "font-size": 5
       }
      },
      "text-base": {
       "color": "mainColor",
       "font-family": "Lato",
       "font-size": 5
      }
     }
    }
   }
  }
 },
 "nbformat": 4,
 "nbformat_minor": 2
}
