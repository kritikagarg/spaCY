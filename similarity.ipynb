{
 "cells": [
  {
   "cell_type": "markdown",
   "metadata": {},
   "source": [
    "# Similarity between Different hashtags using spacy"
   ]
  },
  {
   "cell_type": "code",
   "execution_count": 1,
   "metadata": {
    "nbpresent": {
     "id": "a1ea255b-203b-4532-99ea-83ca8ccd86a8"
    }
   },
   "outputs": [
    {
     "data": {
      "text/plain": [
       "'2009-07-05 16:10:09\\tlimeseed\\tRT Djjask MJ Billie Dream Jask Edit Enjoy play with love Free and sour #Michael Jackson #housemusic\\tdjjask mj billi dream jask edit enjoy play love free sour jackson'"
      ]
     },
     "execution_count": 1,
     "metadata": {},
     "output_type": "execute_result"
    }
   ],
   "source": [
    "#load data\n",
    "Data= open(\"Data.txt\",\"r\").read().splitlines()\n",
    "Data[0]"
   ]
  },
  {
   "cell_type": "code",
   "execution_count": 2,
   "metadata": {
    "nbpresent": {
     "id": "8bf03c62-f378-4412-bae4-a9b2ecea1beb"
    }
   },
   "outputs": [
    {
     "data": {
      "text/plain": [
       "6"
      ]
     },
     "execution_count": 2,
     "metadata": {},
     "output_type": "execute_result"
    }
   ],
   "source": [
    "#load list of hashtags\n",
    "hash_list=['#ripmj', '#youbelongwithme', '#michaeljackson','#taylorswift','#farah','#dead']        #set(open(\"hashtags.txt\",\"r\").read().splitlines())\n",
    "len(hash_list)"
   ]
  },
  {
   "cell_type": "markdown",
   "metadata": {
    "nbpresent": {
     "id": "d1131254-0ed4-4689-a16c-428ee3bf19d6"
    }
   },
   "source": [
    "### Create a Document containing clean tweets for each hashtag\n"
   ]
  },
  {
   "cell_type": "code",
   "execution_count": 3,
   "metadata": {
    "nbpresent": {
     "id": "d49f804e-80a3-4121-8ef9-53435d3bd7b6"
    }
   },
   "outputs": [],
   "source": [
    "#creating a hashtag documents\n",
    "from collections import defaultdict\n",
    "\n",
    "doc_dict=defaultdict(set)\n",
    "\n",
    "for line in Data:\n",
    "    time,user,raw_tweet,clean_tweet= line.split('\\t')\n",
    "    hash_in_tweet = [h for h in raw_tweet.split() if h.startswith('#')]\n",
    "    for hsh in hash_in_tweet:\n",
    "        if hsh in hash_list:\n",
    "            doc_dict[hsh].update(clean_tweet.split())"
   ]
  },
  {
   "cell_type": "code",
   "execution_count": 33,
   "metadata": {
    "nbpresent": {
     "id": "f7a61a92-957a-4485-8524-1ae32dad7a6e"
    }
   },
   "outputs": [
    {
     "data": {
      "text/plain": [
       "{'1',\n",
       " '12',\n",
       " '1969',\n",
       " '1983',\n",
       " '1988',\n",
       " '2',\n",
       " '20',\n",
       " '2002',\n",
       " '2006',\n",
       " '2009',\n",
       " '2300',\n",
       " '25',\n",
       " '4',\n",
       " '5',\n",
       " '50',\n",
       " '62',\n",
       " '75',\n",
       " '8',\n",
       " 'a',\n",
       " 'about',\n",
       " 'acapella',\n",
       " 'ad',\n",
       " 'africa',\n",
       " 'alway',\n",
       " 'am',\n",
       " 'and',\n",
       " 'anna',\n",
       " 'anniversari',\n",
       " 'anywher',\n",
       " 'around',\n",
       " 'artist',\n",
       " 'at',\n",
       " 'audio',\n",
       " 'autopsi',\n",
       " 'awesom',\n",
       " 'barafunda',\n",
       " 'be',\n",
       " 'bei',\n",
       " 'best',\n",
       " 'beyonc',\n",
       " 'bhatti',\n",
       " 'billboard',\n",
       " 'billi',\n",
       " 'bit',\n",
       " 'bitt',\n",
       " 'boa',\n",
       " 'bodi',\n",
       " 'book',\n",
       " 'brick',\n",
       " 'brother',\n",
       " 'browser',\n",
       " 'burglar',\n",
       " 'butterfli',\n",
       " 'can',\n",
       " 'celeb',\n",
       " 'centuri',\n",
       " 'chart',\n",
       " 'check',\n",
       " 'cnn',\n",
       " 'cocktail',\n",
       " 'concert',\n",
       " 'conrad',\n",
       " 'conspiraci',\n",
       " 'cooler',\n",
       " 'coron',\n",
       " 'creativ',\n",
       " 'crush',\n",
       " 'cydia',\n",
       " 'dancer',\n",
       " 'de',\n",
       " 'dead',\n",
       " 'death',\n",
       " 'defranco',\n",
       " 'delay',\n",
       " 'directori',\n",
       " 'doc',\n",
       " 'doctor',\n",
       " 'doll',\n",
       " 'down',\n",
       " 'download',\n",
       " 'drive',\n",
       " 'drug',\n",
       " 'drummachin',\n",
       " 'dune',\n",
       " 'east',\n",
       " 'ed',\n",
       " 'elig',\n",
       " 'employe',\n",
       " 'entertain',\n",
       " 'entireti',\n",
       " 'essa',\n",
       " 'estou',\n",
       " 'evan',\n",
       " 'ever',\n",
       " 'everybodi',\n",
       " 'expect',\n",
       " 'fals',\n",
       " 'far',\n",
       " 'farrah',\n",
       " 'favorit',\n",
       " 'fawcett',\n",
       " 'fear',\n",
       " 'featur',\n",
       " 'festiv',\n",
       " 'film',\n",
       " 'final',\n",
       " 'find',\n",
       " 'fish',\n",
       " 'fisherman',\n",
       " 'fit',\n",
       " 'foi',\n",
       " 'foll',\n",
       " 'follow',\n",
       " 'for',\n",
       " 'forev',\n",
       " 'found',\n",
       " 'friend',\n",
       " 'front',\n",
       " 'ga',\n",
       " 'gefallen',\n",
       " 'gener',\n",
       " 'german',\n",
       " 'germani',\n",
       " 'girl',\n",
       " 'go',\n",
       " 'god',\n",
       " 'good',\n",
       " 'goodby',\n",
       " 'gotta',\n",
       " 'greatest',\n",
       " 'groov',\n",
       " 'ground',\n",
       " 'he',\n",
       " 'hear',\n",
       " 'herd',\n",
       " 'here',\n",
       " 'high',\n",
       " 'hirarchis',\n",
       " 'hit',\n",
       " 'hk3rk',\n",
       " 'honor',\n",
       " 'how',\n",
       " 'hudgen',\n",
       " 'huliq',\n",
       " 'human',\n",
       " 'i',\n",
       " 'ii',\n",
       " 'ill',\n",
       " 'im',\n",
       " 'in',\n",
       " 'indel',\n",
       " 'inform',\n",
       " 'innov',\n",
       " 'inspir',\n",
       " 'instal',\n",
       " 'interview',\n",
       " 'intro',\n",
       " 'is',\n",
       " 'it',\n",
       " 'itun',\n",
       " 'ive',\n",
       " 'jackson',\n",
       " 'jam',\n",
       " 'jean',\n",
       " 'jermain',\n",
       " 'jone',\n",
       " 'just',\n",
       " 'king',\n",
       " 'la',\n",
       " 'least',\n",
       " 'leav',\n",
       " 'legaci',\n",
       " 'level',\n",
       " 'life',\n",
       " 'like',\n",
       " 'linform',\n",
       " 'link',\n",
       " 'littl',\n",
       " 'live',\n",
       " 'look',\n",
       " 'love',\n",
       " 'ma',\n",
       " 'magazin',\n",
       " 'major',\n",
       " 'may',\n",
       " 'meet',\n",
       " 'memoir',\n",
       " 'michael',\n",
       " 'michaeljackson',\n",
       " 'michal',\n",
       " 'mike',\n",
       " 'mike1909',\n",
       " 'mil',\n",
       " 'mine',\n",
       " 'mj',\n",
       " 'mooncricket',\n",
       " 'moonwalk',\n",
       " 'motown',\n",
       " 'move',\n",
       " 'movi',\n",
       " 'ms',\n",
       " 'murray',\n",
       " 'music',\n",
       " 'must',\n",
       " 'my',\n",
       " 'mysteri',\n",
       " 'nancylovespet',\n",
       " 'natur',\n",
       " 'net',\n",
       " 'never',\n",
       " 'nicol',\n",
       " 'nobel',\n",
       " 'not',\n",
       " 'nouvel',\n",
       " 'now',\n",
       " 'nuit',\n",
       " 'obama',\n",
       " 'ocriador',\n",
       " 'of',\n",
       " 'old',\n",
       " 'omer',\n",
       " 'on',\n",
       " 'one',\n",
       " 'open',\n",
       " 'out',\n",
       " 'p',\n",
       " 'part',\n",
       " 'pay',\n",
       " 'peac',\n",
       " 'philip',\n",
       " 'piada',\n",
       " 'pictur',\n",
       " 'play',\n",
       " 'pm',\n",
       " 'polic',\n",
       " 'pop',\n",
       " 'popkingtribut',\n",
       " 'portrait',\n",
       " 'portugues',\n",
       " 'press',\n",
       " 'price',\n",
       " 'prize',\n",
       " 'probe',\n",
       " 'public',\n",
       " 'quinci',\n",
       " 'r',\n",
       " 're-releas',\n",
       " 'read',\n",
       " 'recal',\n",
       " 'reeeeal',\n",
       " 'refresh',\n",
       " 'refus',\n",
       " 'reign',\n",
       " 'releas',\n",
       " 'rememb',\n",
       " 'report',\n",
       " 'retour',\n",
       " 'retweet',\n",
       " 'rip',\n",
       " 'rock',\n",
       " 'rpt',\n",
       " 'rt',\n",
       " 'rt-en',\n",
       " 'rvlateur',\n",
       " 'save',\n",
       " 'say',\n",
       " 'school',\n",
       " 'see',\n",
       " 'seen',\n",
       " 'shake',\n",
       " 'sheriff',\n",
       " 'shirt',\n",
       " 'shout',\n",
       " 'show',\n",
       " 'slap',\n",
       " 'sold',\n",
       " 'solo',\n",
       " 'someon',\n",
       " 'song',\n",
       " 'sorri',\n",
       " 'special',\n",
       " 'star',\n",
       " 'still',\n",
       " 'stori',\n",
       " 'street',\n",
       " 'sullivan',\n",
       " 'sur',\n",
       " 'surgeri',\n",
       " 'sxsw',\n",
       " 'synth',\n",
       " 'system',\n",
       " 't',\n",
       " 'talk',\n",
       " 'taught',\n",
       " 'th',\n",
       " 'thanxx',\n",
       " 'that',\n",
       " 'the',\n",
       " 'theme',\n",
       " 'thi',\n",
       " 'thriller',\n",
       " 'tierra',\n",
       " 'time',\n",
       " 'to',\n",
       " 'today',\n",
       " 'tonight',\n",
       " 'top',\n",
       " 'tribut',\n",
       " 'trist',\n",
       " 'twitter',\n",
       " 'une',\n",
       " 'unglaublich',\n",
       " 'unica',\n",
       " 'unmeasur',\n",
       " 'up',\n",
       " 'updat',\n",
       " 'use',\n",
       " 'vanessa',\n",
       " 'via',\n",
       " 'vibe',\n",
       " 'video',\n",
       " 'view',\n",
       " 'vlogger',\n",
       " 'wait',\n",
       " 'wall',\n",
       " 'wanna',\n",
       " 'want',\n",
       " 'water',\n",
       " 'way',\n",
       " 'wear',\n",
       " 'what',\n",
       " 'whether',\n",
       " 'whi',\n",
       " 'whitegloveday',\n",
       " 'who',\n",
       " 'will',\n",
       " 'wilw',\n",
       " 'with',\n",
       " 'woman',\n",
       " 'worth',\n",
       " 'would',\n",
       " 'write',\n",
       " 'yall',\n",
       " 'year',\n",
       " 'you',\n",
       " 'your'}"
      ]
     },
     "execution_count": 33,
     "metadata": {},
     "output_type": "execute_result"
    }
   ],
   "source": [
    "#Document of hashtag #ripmj\n",
    "doc_dict['#ripmj']"
   ]
  },
  {
   "cell_type": "markdown",
   "metadata": {
    "nbpresent": {
     "id": "83e03e9c-10fb-4fb5-b5a1-74e10a0f879a"
    }
   },
   "source": [
    "## Similarity between documents using spacy"
   ]
  },
  {
   "cell_type": "code",
   "execution_count": 7,
   "metadata": {
    "nbpresent": {
     "id": "2eb017da-97dc-4184-990b-45399fb6fe8c"
    }
   },
   "outputs": [],
   "source": [
    "# Import spacy and English models\n",
    "import spacy\n",
    "\n",
    "nlp = spacy.load('en')"
   ]
  },
  {
   "cell_type": "markdown",
   "metadata": {},
   "source": [
    "### Sentence TO Vector "
   ]
  },
  {
   "cell_type": "code",
   "execution_count": 30,
   "metadata": {
    "nbpresent": {
     "id": "294b2fa0-33a2-4a39-828d-5cd956b08b58"
    }
   },
   "outputs": [],
   "source": [
    "#example \n",
    "doc = nlp(u\"Apples and oranges are similar. Boots and hippos aren't.\")"
   ]
  },
  {
   "cell_type": "code",
   "execution_count": 31,
   "metadata": {},
   "outputs": [
    {
     "data": {
      "text/plain": [
       "array([  7.16891706e-01,   8.81015956e-01,   1.05671249e-01,\n",
       "         5.12764812e-01,   2.55639702e-01,  -3.74948978e-02,\n",
       "        -1.07981110e+00,   5.93306720e-01,   1.37239087e+00,\n",
       "        -2.70559996e-01,   4.87302154e-01,  -6.09425604e-01,\n",
       "         7.14151442e-01,   2.86402196e-01,   5.55537522e-01,\n",
       "        -6.27292335e-01,  -9.60178375e-01,   4.80861783e-01,\n",
       "        -8.03113461e-01,  -1.39905259e-01,   1.14121020e+00,\n",
       "        -1.04586089e+00,  -8.09619963e-01,   1.78098693e-01,\n",
       "        -1.03611588e-01,   4.56884235e-01,   9.95423421e-02,\n",
       "         3.69559079e-01,   4.30800647e-01,   1.58107567e+00,\n",
       "        -1.60123900e-01,   2.34150648e-01,  -4.88874435e-01,\n",
       "         6.39671862e-01,   6.01233058e-02,  -9.82226506e-02,\n",
       "        -6.80491149e-01,  -1.35961354e+00,  -1.26623952e+00,\n",
       "         6.90772951e-01,   9.69657004e-01,   3.32755357e-01,\n",
       "         4.61152881e-01,   8.71967793e-01,  -1.06316102e+00,\n",
       "         5.41103005e-01,   1.22881830e+00,  -3.31587158e-02,\n",
       "         1.55729401e+00,  -7.17943132e-01,  -6.08817279e-01,\n",
       "        -1.18712962e+00,  -1.47897577e+00,   4.18139011e-01,\n",
       "         6.01271868e-01,   2.44744539e+00,   5.29916942e-01,\n",
       "         1.00317633e+00,  -1.60423410e+00,  -3.34089428e-01,\n",
       "        -3.82855803e-01,  -8.17773640e-01,  -8.77182484e-01,\n",
       "        -1.64251532e-02,  -8.48906264e-02,  -5.61517239e-01,\n",
       "         1.40407050e+00,  -6.85011685e-01,  -1.38232422e+00,\n",
       "        -1.83798954e-01,  -6.96789205e-01,  -6.02467239e-01,\n",
       "        -2.01549411e-01,  -6.38732731e-01,  -2.17555904e+00,\n",
       "        -1.61798918e+00,   8.43195498e-01,  -4.68222857e-01,\n",
       "         2.83751100e-01,  -3.71284246e-01,   6.60647511e-01,\n",
       "        -1.28882027e+00,  -1.01131451e+00,  -1.84448195e+00,\n",
       "         1.20929313e+00,   1.83301532e+00,   4.42295700e-01,\n",
       "         9.27517235e-01,  -3.12668055e-01,  -2.98802286e-01,\n",
       "         9.83076021e-02,   5.37292302e-01,  -1.86591029e-01,\n",
       "        -7.73862064e-01,  -7.99561024e-01,   1.54595292e+00,\n",
       "        -2.12527946e-01,   3.62102389e-01,   6.59845889e-01,\n",
       "        -1.76628339e+00,  -4.65789318e-01,   6.67711735e-01,\n",
       "         3.24929446e-01,  -5.62141597e-01,   6.18440568e-01,\n",
       "        -5.77681601e-01,   8.87196362e-01,  -1.17181027e+00,\n",
       "        -9.05400693e-01,   5.70371263e-02,   9.62103426e-01,\n",
       "         1.80296385e+00,   8.32354203e-02,  -5.68278790e-01,\n",
       "         9.27224338e-01,   1.53818369e+00,  -1.26479638e+00,\n",
       "        -1.15298629e-01,  -4.68030542e-01,   1.11901009e+00,\n",
       "         1.88342655e+00,  -1.15371788e+00,   8.28411758e-01,\n",
       "         6.29208460e-02,   1.15871966e+00,  -5.47746599e-01,\n",
       "        -1.41181782e-01,  -1.05791569e+00,  -1.37156472e-01,\n",
       "         1.26663730e-01,  -8.04764330e-02,   1.60714388e-02,\n",
       "         1.04984157e-01,  -5.87965399e-02,   1.06135570e-01,\n",
       "         1.99147031e-01,  -1.49016201e-01,   1.70097370e-02,\n",
       "        -5.40959276e-02,  -3.43682051e-01,   1.14390492e-01,\n",
       "        -2.97447294e-02,   1.20915018e-01,   2.39839256e-01,\n",
       "         1.86373934e-01,   3.46770972e-01,  -1.86530784e-01,\n",
       "         1.47430286e-01,   1.17641956e-01,   1.47130787e-01,\n",
       "        -1.55999973e-01,  -1.55378938e-01,  -7.07813352e-03,\n",
       "        -3.24603289e-01,  -2.23031238e-01,  -1.76787257e-01,\n",
       "        -1.24147870e-01,  -4.18680198e-02,  -1.49481371e-01,\n",
       "        -1.58007488e-01,   3.16411518e-02,  -1.79451391e-01,\n",
       "        -5.89477420e-02,  -2.07463026e-01,   6.21026941e-02,\n",
       "        -2.54074931e-01,   3.90908033e-01,  -5.78285158e-02,\n",
       "         1.41226739e-01,   1.06895685e-01,  -7.27686957e-02,\n",
       "        -4.49555069e-02,   2.52058148e-01,  -2.13545844e-01,\n",
       "         2.32660528e-02,   3.02489847e-01,  -2.12007359e-01,\n",
       "         3.58273953e-01,  -6.43028617e-02,   4.34543341e-02,\n",
       "         3.65499258e-02,  -2.21484229e-01,   4.00252007e-02,\n",
       "         2.57242769e-01,   1.64033547e-01,   4.34433222e-02,\n",
       "         3.12282771e-01,   6.50758818e-02,   3.88996810e-01,\n",
       "        -1.38672382e-01,  -2.63866801e-02,   5.68448305e-02,\n",
       "         7.12071061e-02,  -1.22585125e-01,   2.47557629e-02,\n",
       "        -3.09212327e-01,  -1.16864897e-01,   4.12717462e-01,\n",
       "        -4.74558085e-01,  -1.93457067e-01,   1.27983138e-01,\n",
       "        -2.43208054e-02,   1.38751268e-01,  -1.20184906e-01,\n",
       "        -1.74729154e-01,   2.34273612e-01,   3.04936677e-01,\n",
       "        -1.31723419e-01,  -6.86970174e-01,  -1.23737842e-01,\n",
       "        -2.53124032e-02,  -1.86052516e-01,  -5.87764243e-03,\n",
       "         7.80431107e-02,  -3.42816502e-01,   1.50196716e-01,\n",
       "        -7.99891576e-02,   2.80084223e-01,   6.61123246e-02,\n",
       "        -4.32330966e-01,  -2.33900473e-02,  -4.52880673e-02,\n",
       "         8.13409165e-02,   1.66560300e-02,  -1.38952315e-01,\n",
       "         2.38201097e-01,  -2.30022192e-01,  -2.21755862e-01,\n",
       "         9.19926390e-02,   4.00809765e-01,   4.29819822e-02,\n",
       "         5.72239041e-01,   2.09935620e-01,  -2.07870290e-01,\n",
       "        -9.08179507e-02,   6.39623463e-01,  -1.60075918e-01,\n",
       "        -1.11203432e-01,  -6.30206093e-02,   4.90730740e-02,\n",
       "         5.35934567e-02,  -2.52724677e-01,  -2.25339189e-01,\n",
       "        -2.50089973e-01,   1.32784978e-01,   2.56040901e-01,\n",
       "        -7.14648282e-03,   8.07579830e-02,   2.52743661e-01,\n",
       "        -2.16748834e-01,  -4.24762852e-02,   1.27937108e-01,\n",
       "         2.81637639e-01,  -6.39573634e-02,   1.07699640e-01,\n",
       "         7.59336650e-01,  -1.99188944e-02,   8.83017406e-02,\n",
       "        -5.06512113e-02,   1.12524383e-01,  -1.68003544e-01,\n",
       "        -3.33286911e-01,  -2.14167401e-01,   3.28311361e-02,\n",
       "         2.58538295e-02,  -1.85086608e-01,  -3.45800012e-01,\n",
       "        -1.48928151e-01,   9.79009345e-02,  -9.67944637e-02,\n",
       "         9.34656039e-02,   5.56385815e-01,   2.43014023e-01,\n",
       "        -1.86127976e-01,  -1.46360025e-01,  -3.25090110e-01,\n",
       "         6.26177574e-03,  -6.69682538e-03,   3.11102867e-01,\n",
       "        -5.74445911e-02,  -1.87078714e-01,   5.05914867e-01,\n",
       "        -2.75362115e-02,   2.14231789e-01,   3.42205353e-02,\n",
       "         1.66704282e-01,  -2.90523857e-01,  -2.49811411e-01,\n",
       "        -4.50654738e-02,   1.12994760e-01,  -1.38949335e-01,\n",
       "         7.12693185e-02,  -1.85276847e-02,   1.98451281e-01,\n",
       "         3.76875512e-02,  -2.65487701e-01,   7.34195858e-03,\n",
       "        -1.26448080e-01,   1.66934296e-01,  -2.02207133e-01,\n",
       "        -1.54133186e-01,  -1.86036065e-01,  -2.35078767e-01,\n",
       "        -3.66056651e-01,   1.07715698e-02,  -2.96916246e-01,\n",
       "         2.62456536e-01,  -2.27963045e-01,  -3.10928766e-02,\n",
       "         1.94625095e-01,  -1.28194928e-01,   1.06713600e-01,\n",
       "        -1.52441129e-01,   1.35115907e-01,   2.65092075e-01,\n",
       "        -1.14875294e-01,   1.56396255e-01,   4.56901550e-01,\n",
       "        -2.00482845e-01,   3.41604441e-01,   2.14390337e-01,\n",
       "         2.69070536e-01,  -2.66110450e-01,   1.97400793e-01,\n",
       "        -2.57610887e-01,   6.28255829e-02,  -1.63720608e-01,\n",
       "        -1.32787600e-01,   2.37044826e-01,   3.20128649e-01,\n",
       "         1.84281811e-01,  -3.25543098e-02,  -8.91360864e-02,\n",
       "         2.52443939e-01,  -1.48916364e-01,  -2.33680844e-01,\n",
       "        -1.84926391e-01,   1.63462907e-02,  -2.33273104e-01,\n",
       "        -1.27830386e-01,  -1.61307693e-01,  -5.11760563e-02,\n",
       "         1.02013439e-01,   1.18444435e-01,  -1.36547536e-01,\n",
       "        -1.91361681e-01,  -1.16710909e-01,   1.92813993e-01,\n",
       "         2.43947908e-01,  -1.32348984e-01,  -2.33469486e-01,\n",
       "         7.20315650e-02,  -2.70288348e-01,   9.82498229e-02,\n",
       "         8.91772434e-02,   1.63833484e-01,  -9.66945812e-02,\n",
       "        -2.95898110e-01,  -2.79917538e-01,  -3.18783849e-01,\n",
       "        -4.84598093e-02,   2.84178138e-01,   1.65171221e-01,\n",
       "         9.33536291e-02,  -4.40087527e-01,  -7.38382712e-02,\n",
       "         3.71472150e-01,  -1.52956679e-01,   3.82237673e-01,\n",
       "        -1.87274944e-02,  -1.46946251e-01,   1.07038021e-03,\n",
       "        -1.01805240e-01,  -1.24490909e-01,   1.62643805e-01,\n",
       "         1.98582970e-02,  -8.61764420e-03,  -1.12194799e-01,\n",
       "         1.83035299e-01,   2.40515292e-01,  -1.26693323e-01,\n",
       "         4.92127873e-02,   1.45836174e-02,  -2.00601090e-02], dtype=float32)"
      ]
     },
     "execution_count": 31,
     "metadata": {},
     "output_type": "execute_result"
    }
   ],
   "source": [
    "doc.vector"
   ]
  },
  {
   "cell_type": "code",
   "execution_count": 32,
   "metadata": {},
   "outputs": [
    {
     "name": "stdout",
     "output_type": "stream",
     "text": [
      "0.519023\n"
     ]
    }
   ],
   "source": [
    "#Similarity between apple and Orange\n",
    "apple=doc[0]\n",
    "orange=doc[2]\n",
    "print(apple.similarity(orange))"
   ]
  },
  {
   "cell_type": "code",
   "execution_count": 190,
   "metadata": {},
   "outputs": [
    {
     "data": {
      "text/plain": [
       "['#ripmj', '#youbelongwithme', '#michaeljackson']"
      ]
     },
     "execution_count": 190,
     "metadata": {},
     "output_type": "execute_result"
    }
   ],
   "source": [
    "#Back to our mj example\n",
    "hash_list[:3]"
   ]
  },
  {
   "cell_type": "code",
   "execution_count": 17,
   "metadata": {},
   "outputs": [],
   "source": [
    "#set to unicode for all hashtags documents\n",
    "def s2u(hsh):\n",
    "    return unicode(' '.join(doc_dict[hsh]))"
   ]
  },
  {
   "cell_type": "code",
   "execution_count": 18,
   "metadata": {},
   "outputs": [],
   "source": [
    "#insert unicode into spacy nlp model \n",
    "\n",
    "ripmj = nlp(s2u('#ripmj'))\n",
    "michaeljackson =nlp(s2u('#michaeljackson'))\n",
    "\n",
    "dead=nlp(s2u('#dead'))\n",
    "farah_fawcett =nlp(s2u('#farah'))\n",
    "\n",
    "taylorswift=nlp(s2u('#taylorswift'))\n",
    "youbelongwithme =nlp(s2u('#youbelongwithme'))"
   ]
  },
  {
   "cell_type": "code",
   "execution_count": 35,
   "metadata": {},
   "outputs": [
    {
     "data": {
      "text/plain": [
       "array([  2.60357022e-01,   4.75779980e-01,   2.65961260e-01,\n",
       "         5.70627689e-01,   2.28937566e-01,   2.95783669e-01,\n",
       "        -2.44408083e+00,  -1.44132808e-01,   5.87016404e-01,\n",
       "         8.37228119e-01,   9.41621244e-01,  -1.12436473e+00,\n",
       "        -7.71928802e-02,  -5.55881523e-02,  -1.30009902e+00,\n",
       "        -4.94790405e-01,  -1.89286470e+00,  -1.05778027e+00,\n",
       "        -1.45084071e+00,   2.75743246e-01,   9.45582151e-01,\n",
       "         5.00263572e-01,   2.32019603e-01,   4.53564227e-01,\n",
       "        -8.14803123e-01,  -1.23809016e+00,  -3.39378804e-01,\n",
       "         1.79615498e+00,  -1.68804139e-01,  -3.58811706e-01,\n",
       "        -4.06331033e-01,   3.42297345e-01,   7.96148360e-01,\n",
       "         2.42851041e-02,  -6.29470229e-01,  -9.12240565e-01,\n",
       "         1.35927665e+00,  -5.53343236e-01,   9.48094189e-01,\n",
       "         3.26070011e-01,  -9.19994891e-01,   1.23283170e-01,\n",
       "         1.01270282e+00,   2.90968031e-01,  -5.59057951e-01,\n",
       "         5.29638767e-01,  -6.01162255e-01,  -1.94614276e-01,\n",
       "         9.38894093e-01,  -2.31899470e-01,   1.20734465e+00,\n",
       "        -1.51492691e+00,  -8.72870505e-01,   1.79350173e+00,\n",
       "         4.09455389e-01,  -3.95748258e-01,   1.67291367e+00,\n",
       "         1.73713088e+00,  -1.06272602e+00,   2.28092015e-01,\n",
       "        -7.13272095e-01,   1.15071809e+00,  -1.36979675e+00,\n",
       "         8.35776448e-01,   8.31128418e-01,  -1.39890000e-01,\n",
       "        -1.93078506e+00,  -8.66098881e-01,   2.32723728e-01,\n",
       "         7.01422930e-01,  -6.68423891e-01,  -8.90546381e-01,\n",
       "         1.41285643e-01,   7.80883372e-01,  -1.71612096e+00,\n",
       "         2.83478379e-01,  -2.92007953e-01,   2.01356903e-01,\n",
       "        -5.94068050e-01,   7.39794731e-01,  -1.40166318e+00,\n",
       "         2.11695999e-01,  -1.23802698e+00,  -6.58065259e-01,\n",
       "         1.05474091e+00,   6.96028948e-01,  -5.79035938e-01,\n",
       "         7.89074659e-01,  -4.12394941e-01,   9.70101714e-01,\n",
       "        -1.60025096e+00,   1.74865639e+00,  -7.40877807e-01,\n",
       "         8.63621533e-01,  -1.70369434e+00,   1.17407346e+00,\n",
       "        -9.72238719e-01,   6.85383499e-01,   5.53817272e-01,\n",
       "        -7.68094420e-01,  -1.00895238e+00,   1.24602532e+00,\n",
       "         2.26898715e-01,  -2.27784082e-01,  -1.90055370e-01,\n",
       "        -1.67995423e-01,  -2.33435616e-01,  -1.25474644e+00,\n",
       "        -1.04571450e+00,   1.16612092e-01,   5.01087964e-01,\n",
       "        -8.77218306e-01,  -4.39283073e-01,  -2.24980429e-01,\n",
       "         1.82429135e+00,   1.55180502e+00,  -2.83092767e-01,\n",
       "         1.49788499e+00,   9.69503522e-01,   2.59264279e-02,\n",
       "         8.52460802e-01,   1.48139745e-01,   8.18081260e-01,\n",
       "         2.07944185e-01,   1.23751795e+00,  -9.11284387e-01,\n",
       "         1.62562275e+00,  -2.17119503e+00,  -4.86623287e-01,\n",
       "        -2.70083189e-01,  -8.78333375e-02,  -1.64147586e-01,\n",
       "        -9.99000221e-02,   7.84673616e-02,  -4.11647767e-01,\n",
       "        -6.89469874e-02,   1.89506665e-01,  -3.22582610e-02,\n",
       "         3.12476814e-01,  -8.09262767e-02,  -1.22065293e-02,\n",
       "        -3.03985000e-01,  -2.42110804e-01,   3.82390350e-01,\n",
       "         8.57490823e-02,   3.09315473e-01,   2.08715856e-01,\n",
       "        -9.37175751e-02,   4.61323522e-02,   1.19118199e-01,\n",
       "         2.79523730e-01,   2.97601726e-02,   2.43341118e-01,\n",
       "        -3.63331199e-01,   3.13915521e-01,  -3.39563996e-01,\n",
       "        -5.04563488e-02,  -2.30005831e-01,  -1.84488401e-01,\n",
       "         1.94419339e-01,   1.19781114e-01,   3.11471432e-01,\n",
       "        -9.37450007e-02,  -1.54879496e-01,   5.77919595e-02,\n",
       "         3.60395648e-02,  -5.84299676e-02,  -7.64973983e-02,\n",
       "        -2.49821872e-01,   2.37059325e-01,  -8.61153472e-03,\n",
       "        -1.14125028e-01,   3.53741318e-01,  -2.48075515e-01,\n",
       "         7.78492391e-02,   2.03074187e-01,   1.21324304e-02,\n",
       "        -3.96950580e-02,  -4.76492643e-01,   9.58823189e-02,\n",
       "         3.68514694e-02,   1.86555848e-01,  -1.74314708e-01,\n",
       "        -4.17171890e-04,   1.31014824e-01,  -8.20964351e-02,\n",
       "         3.42115492e-01,  -1.06364839e-01,   2.24105969e-01,\n",
       "         2.43884310e-01,  -2.21214250e-01,  -3.03137079e-02,\n",
       "         5.48109934e-02,   6.48089647e-02,  -6.82806745e-02,\n",
       "        -1.56691059e-01,   7.72340875e-03,   6.25983477e-01,\n",
       "        -1.63647532e-01,  -2.32263640e-01,  -8.01918060e-02,\n",
       "         1.84741095e-02,  -1.64175361e-01,   1.15983315e-01,\n",
       "         1.24163382e-01,   1.07376851e-01,   5.79619408e-01,\n",
       "        -6.29627034e-02,  -4.78075333e-02,  -1.57967228e-02,\n",
       "        -6.41414821e-02,   2.02354528e-02,   1.93152353e-01,\n",
       "        -1.82243460e-03,  -2.63185024e-01,   1.77303866e-01,\n",
       "        -1.16694070e-01,  -1.40005164e-02,   7.32632950e-02,\n",
       "        -4.14203048e-01,  -6.33572638e-02,  -1.65722281e-01,\n",
       "        -2.68153518e-01,  -1.31046787e-01,  -2.22709738e-02,\n",
       "         3.77023183e-02,  -2.32370128e-03,  -2.09671468e-01,\n",
       "         2.27750093e-01,   1.88668936e-01,   1.08349420e-01,\n",
       "         7.59359971e-02,   1.18551493e-01,  -3.27803880e-01,\n",
       "        -1.89960077e-01,   3.74265835e-02,  -2.54580468e-01,\n",
       "        -3.34511250e-02,   1.30928829e-01,  -2.32063159e-01,\n",
       "         1.24831863e-01,  -1.01516247e-01,   2.46025681e-01,\n",
       "        -3.57243530e-02,  -8.30037519e-02,   5.78730516e-02,\n",
       "        -6.07949048e-02,  -8.49745877e-04,  -1.48392124e-02,\n",
       "        -1.62794083e-01,   2.50552535e-01,  -1.40423909e-01,\n",
       "         9.01808962e-02,  -2.13906746e-02,   2.46377036e-01,\n",
       "         1.88976303e-01,  -1.61486194e-01,   2.44567525e-02,\n",
       "         1.40626699e-01,   1.57810420e-01,  -2.02036202e-01,\n",
       "        -1.45926610e-01,  -1.03912741e-01,   2.02169433e-01,\n",
       "        -2.36678679e-04,  -1.63070813e-01,  -1.64992571e-01,\n",
       "         3.54706496e-02,   1.06381506e-01,   8.19439963e-02,\n",
       "        -6.85478449e-02,   3.70202184e-01,   1.38462737e-01,\n",
       "        -1.03087559e-01,  -1.52791470e-01,  -2.95323789e-01,\n",
       "        -5.20915538e-02,   2.12772802e-01,   3.21392894e-01,\n",
       "        -3.20894539e-01,  -1.74770817e-01,   2.06912354e-01,\n",
       "        -2.05008575e-04,   2.67306447e-01,   1.65276546e-02,\n",
       "         4.42287400e-02,  -3.86424750e-01,  -4.97829884e-01,\n",
       "         2.20347289e-02,   2.01816022e-01,   2.71216333e-01,\n",
       "        -8.59765038e-02,  -8.59742165e-02,   1.22296683e-01,\n",
       "         1.80917427e-01,  -2.46059075e-01,  -8.04151297e-02,\n",
       "        -5.87354526e-02,   3.29797305e-02,  -2.85732836e-01,\n",
       "         1.34260997e-01,   7.95272216e-02,  -2.05453843e-01,\n",
       "        -3.18490744e-01,  -5.47594856e-04,  -2.60339111e-01,\n",
       "        -1.38246745e-01,  -2.35136941e-01,  -1.65829852e-01,\n",
       "         2.03002065e-01,  -3.12576741e-02,   1.33794144e-01,\n",
       "        -2.75437951e-01,   1.15131527e-01,   4.76203829e-01,\n",
       "        -1.18045814e-01,   1.83488533e-01,   4.18703973e-01,\n",
       "        -1.08894609e-01,   3.02168757e-01,   3.56604189e-01,\n",
       "         1.97457314e-01,  -2.40531057e-01,   3.91122162e-01,\n",
       "        -2.30440736e-01,   1.77544475e-01,  -1.10524066e-01,\n",
       "        -2.12988302e-01,   1.24565415e-01,   1.42795175e-01,\n",
       "         3.55640829e-01,   5.38663529e-02,  -1.27973452e-01,\n",
       "         4.77694929e-01,  -2.91591525e-01,  -5.65550588e-02,\n",
       "        -2.52925366e-01,  -2.46606946e-01,  -9.87536460e-02,\n",
       "        -2.32186288e-01,  -1.49074450e-01,  -1.58795387e-01,\n",
       "         2.04121470e-01,   4.02190164e-02,  -1.96388483e-01,\n",
       "        -8.35827291e-02,  -3.70348901e-01,   3.01070064e-01,\n",
       "         4.96347576e-01,  -1.51483461e-01,  -1.13742530e-01,\n",
       "        -1.94118731e-02,  -2.83513516e-01,   3.27933073e-01,\n",
       "         1.55312642e-01,  -1.53381929e-01,   2.74885446e-02,\n",
       "        -4.11285222e-01,  -1.56186730e-01,  -5.29089093e-01,\n",
       "        -1.31692395e-01,   1.92484260e-01,   2.56891489e-01,\n",
       "         1.35222554e-01,  -3.33058864e-01,  -1.75396368e-01,\n",
       "         4.86331917e-02,  -2.16163382e-01,   3.71028870e-01,\n",
       "         1.56376883e-01,  -2.04705492e-01,   1.53872907e-01,\n",
       "        -1.07430182e-01,  -5.22537194e-02,   1.08399138e-01,\n",
       "         3.36418569e-01,   6.69374168e-02,  -9.97926444e-02,\n",
       "         1.64204985e-01,   5.33850975e-02,  -1.84734359e-01,\n",
       "         6.90812692e-02,   6.24320842e-02,   6.04680926e-02], dtype=float32)"
      ]
     },
     "execution_count": 35,
     "metadata": {},
     "output_type": "execute_result"
    }
   ],
   "source": [
    "#HASHTAG TO VECTOR\n",
    "\n",
    "ripmj.vector"
   ]
  },
  {
   "cell_type": "markdown",
   "metadata": {},
   "source": [
    "### Lets see Similarity between #ripmj and others.\n",
    "\n",
    "#### Spacy can clearly tell that #ripmj is more related to #dead and #michaeljackson rather than to a song #youbelongwithme \n"
   ]
  },
  {
   "cell_type": "code",
   "execution_count": 19,
   "metadata": {},
   "outputs": [
    {
     "name": "stdout",
     "output_type": "stream",
     "text": [
      "0.984388863898\n"
     ]
    }
   ],
   "source": [
    "print(ripmj.similarity(michaeljackson))"
   ]
  },
  {
   "cell_type": "code",
   "execution_count": 20,
   "metadata": {},
   "outputs": [
    {
     "name": "stdout",
     "output_type": "stream",
     "text": [
      "0.871436250107\n"
     ]
    }
   ],
   "source": [
    "print(ripmj.similarity(youbelongwithme))"
   ]
  },
  {
   "cell_type": "code",
   "execution_count": 21,
   "metadata": {},
   "outputs": [
    {
     "name": "stdout",
     "output_type": "stream",
     "text": [
      "0.991692138205\n"
     ]
    }
   ],
   "source": [
    "print(ripmj.similarity(dead))"
   ]
  },
  {
   "cell_type": "markdown",
   "metadata": {},
   "source": [
    "\n",
    "### Lets see whoose dead ?\n",
    "\n",
    "**Interestingly, taylor is more related to #dead than farah_fawcett**"
   ]
  },
  {
   "cell_type": "code",
   "execution_count": 22,
   "metadata": {},
   "outputs": [
    {
     "name": "stdout",
     "output_type": "stream",
     "text": [
      "0.971354416468\n"
     ]
    }
   ],
   "source": [
    "print(dead.similarity(taylorswift))"
   ]
  },
  {
   "cell_type": "code",
   "execution_count": 23,
   "metadata": {},
   "outputs": [
    {
     "name": "stdout",
     "output_type": "stream",
     "text": [
      "0.988485272249\n"
     ]
    }
   ],
   "source": [
    "print(dead.similarity(michaeljackson))"
   ]
  },
  {
   "cell_type": "code",
   "execution_count": 24,
   "metadata": {},
   "outputs": [
    {
     "name": "stdout",
     "output_type": "stream",
     "text": [
      "0.950475157906\n"
     ]
    }
   ],
   "source": [
    "print(dead.similarity(farah_fawcett))"
   ]
  },
  {
   "cell_type": "markdown",
   "metadata": {},
   "source": []
  }
 ],
 "metadata": {
  "kernelspec": {
   "display_name": "Python [conda env:spark]",
   "language": "python",
   "name": "conda-env-spark-py"
  },
  "language_info": {
   "codemirror_mode": {
    "name": "ipython",
    "version": 2
   },
   "file_extension": ".py",
   "mimetype": "text/x-python",
   "name": "python",
   "nbconvert_exporter": "python",
   "pygments_lexer": "ipython2",
   "version": "2.7.15"
  },
  "nbpresent": {
   "slides": {},
   "themes": {
    "default": "3de19912-b38c-4322-a660-5a26b9468c97",
    "theme": {
     "3de19912-b38c-4322-a660-5a26b9468c97": {
      "backgrounds": {
       "backgroundColor": {
        "background-color": "backgroundColor",
        "id": "backgroundColor"
       }
      },
      "id": "3de19912-b38c-4322-a660-5a26b9468c97",
      "palette": {
       "backgroundColor": {
        "id": "backgroundColor",
        "rgb": [
         17,
         17,
         17
        ]
       },
       "headingColor": {
        "id": "headingColor",
        "rgb": [
         238,
         238,
         238
        ]
       },
       "linkColor": {
        "id": "linkColor",
        "rgb": [
         231,
         173,
         82
        ]
       },
       "mainColor": {
        "id": "mainColor",
        "rgb": [
         238,
         238,
         238
        ]
       }
      },
      "rules": {
       "a": {
        "color": "linkColor"
       },
       "h1": {
        "color": "headingColor",
        "font-family": "Montserrat",
        "font-size": 7
       },
       "h2": {
        "color": "headingColor",
        "font-family": "Montserrat",
        "font-size": 5
       },
       "h3": {
        "color": "headingColor",
        "font-family": "Montserrat",
        "font-size": 3.75
       },
       "h4": {
        "color": "headingColor",
        "font-family": "Montserrat",
        "font-size": 3
       },
       "h5": {
        "color": "headingColor",
        "font-family": "Montserrat"
       },
       "h6": {
        "color": "headingColor",
        "font-family": "Montserrat"
       },
       "h7": {
        "color": "headingColor",
        "font-family": "Montserrat"
       },
       "li": {
        "color": "mainColor",
        "font-family": "Open Sans",
        "font-size": 4
       },
       "p": {
        "color": "mainColor",
        "font-family": "Open Sans",
        "font-size": 4
       }
      },
      "text-base": {
       "color": "mainColor",
       "font-family": "Open Sans",
       "font-size": 4
      }
     },
     "b0ef59f4-661f-4d32-b052-ddf19d0df958": {
      "backgrounds": {
       "backgroundColor": {
        "background-color": "backgroundColor",
        "id": "backgroundColor"
       }
      },
      "id": "b0ef59f4-661f-4d32-b052-ddf19d0df958",
      "palette": {
       "backgroundColor": {
        "id": "backgroundColor",
        "rgb": [
         34,
         34,
         34
        ]
       },
       "headingColor": {
        "id": "headingColor",
        "rgb": [
         238,
         238,
         238
        ]
       },
       "linkColor": {
        "id": "linkColor",
        "rgb": [
         170,
         34,
         51
        ]
       },
       "mainColor": {
        "id": "mainColor",
        "rgb": [
         238,
         238,
         238
        ]
       }
      },
      "rules": {
       "a": {
        "color": "linkColor"
       },
       "h1": {
        "color": "headingColor",
        "font-family": "Ubuntu",
        "font-size": 7
       },
       "h2": {
        "color": "headingColor",
        "font-family": "Ubuntu",
        "font-size": 5
       },
       "h3": {
        "color": "headingColor",
        "font-family": "Ubuntu",
        "font-size": 3.75
       },
       "h4": {
        "color": "headingColor",
        "font-family": "Ubuntu",
        "font-size": 3
       },
       "h5": {
        "color": "headingColor",
        "font-family": "Ubuntu"
       },
       "h6": {
        "color": "headingColor",
        "font-family": "Ubuntu"
       },
       "h7": {
        "color": "headingColor",
        "font-family": "Ubuntu"
       },
       "li": {
        "color": "mainColor",
        "font-family": "Ubuntu",
        "font-size": 5
       },
       "p": {
        "color": "mainColor",
        "font-family": "Ubuntu",
        "font-size": 5
       }
      },
      "text-base": {
       "color": "mainColor",
       "font-family": "Ubuntu",
       "font-size": 5
      }
     },
     "c1eb01eb-bf43-4561-86a2-86d3097906ad": {
      "backgrounds": {
       "backgroundColor": {
        "background-color": "backgroundColor",
        "id": "backgroundColor"
       }
      },
      "id": "c1eb01eb-bf43-4561-86a2-86d3097906ad",
      "palette": {
       "backgroundColor": {
        "id": "backgroundColor",
        "rgb": [
         247,
         243,
         222
        ]
       },
       "headingColor": {
        "id": "headingColor",
        "rgb": [
         51,
         51,
         51
        ]
       },
       "linkColor": {
        "id": "linkColor",
        "rgb": [
         139,
         116,
         61
        ]
       },
       "mainColor": {
        "id": "mainColor",
        "rgb": [
         51,
         51,
         51
        ]
       }
      },
      "rules": {
       "a": {
        "color": "linkColor"
       },
       "h1": {
        "color": "headingColor",
        "font-family": "Oswald",
        "font-size": 7
       },
       "h2": {
        "color": "headingColor",
        "font-family": "Oswald",
        "font-size": 5
       },
       "h3": {
        "color": "headingColor",
        "font-family": "Oswald",
        "font-size": 3.75
       },
       "h4": {
        "color": "headingColor",
        "font-family": "Oswald",
        "font-size": 3
       },
       "h5": {
        "color": "headingColor",
        "font-family": "Oswald"
       },
       "h6": {
        "color": "headingColor",
        "font-family": "Oswald"
       },
       "h7": {
        "color": "headingColor",
        "font-family": "Oswald"
       },
       "li": {
        "color": "mainColor",
        "font-family": "Lato",
        "font-size": 5
       },
       "p": {
        "color": "mainColor",
        "font-family": "Lato",
        "font-size": 5
       }
      },
      "text-base": {
       "color": "mainColor",
       "font-family": "Lato",
       "font-size": 5
      }
     }
    }
   }
  }
 },
 "nbformat": 4,
 "nbformat_minor": 2
}
